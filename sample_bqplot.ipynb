{
 "cells": [
  {
   "cell_type": "markdown",
   "metadata": {},
   "source": [
    "# __bqplot__\n",
    "\n",
    "Aziz and I met a senior researcher from Bloomberg at JupyterCon, who told us about this framework which is amazing for visualizations! *bqplot* not only allows you to plot visualizations with data, but also enables interaction with the plots to get deeper insights.\n",
    "\n",
    "In *bqplot*, every single attribute of the plot is an interactive widget. This allows the user to integrate any plot with IPython widgets to create a complex and feature rich GUI from just a few simple lines of Python code.\n",
    "\n",
    "Below 3 examples demonstrate various features of the framework."
   ]
  },
  {
   "cell_type": "markdown",
   "metadata": {},
   "source": [
    "## Example 1: \n",
    "#### Simple Interactions"
   ]
  },
  {
   "cell_type": "markdown",
   "metadata": {},
   "source": [
    "Let's start with a simple scatter chart to see how this works.\n",
    "Here are the libraries we need"
   ]
  },
  {
   "cell_type": "code",
   "execution_count": 1,
   "metadata": {
    "collapsed": true
   },
   "outputs": [],
   "source": [
    "from bqplot import LinearScale, Scatter, Axis, Figure, pyplot as plt\n",
    "import numpy as np"
   ]
  },
  {
   "cell_type": "markdown",
   "metadata": {},
   "source": [
    "*Scale* is used to map data coordinates to figure coordinates, i.e. it takes a set of values in any arbitrary unit (say number of people, or $, or litres) and converts it to pixels (or colors for a *ColorScale*)"
   ]
  },
  {
   "cell_type": "code",
   "execution_count": 2,
   "metadata": {
    "collapsed": true
   },
   "outputs": [],
   "source": [
    "x_sc = LinearScale()\n",
    "y_sc = LinearScale()"
   ]
  },
  {
   "cell_type": "markdown",
   "metadata": {},
   "source": [
    "Generate some random data for x and y axis"
   ]
  },
  {
   "cell_type": "code",
   "execution_count": 3,
   "metadata": {
    "collapsed": true
   },
   "outputs": [],
   "source": [
    "x_data = np.arange(20)\n",
    "y_data = np.random.randn(20)"
   ]
  },
  {
   "cell_type": "markdown",
   "metadata": {},
   "source": [
    "Plot a scatter chart using the data and scale. In the *interactions* dictionary, we can specify events which trigger interactions which in this case is *click*. We also have the flexibility to customize styles of selected and unselected elements"
   ]
  },
  {
   "cell_type": "code",
   "execution_count": 4,
   "metadata": {
    "collapsed": true
   },
   "outputs": [],
   "source": [
    "scatter_chart = Scatter(x=x_data, y=y_data, scales= {'x': x_sc, 'y': y_sc}, colors=['dodgerblue'],\n",
    "                       interactions={'click': 'select'},\n",
    "                        selected_style={'opacity': 1.0, 'fill': 'DarkOrange', 'stroke': 'Red'},\n",
    "                       unselected_style={'opacity': 0.5})"
   ]
  },
  {
   "cell_type": "markdown",
   "metadata": {},
   "source": [
    "Define the axis for the plot"
   ]
  },
  {
   "cell_type": "code",
   "execution_count": 5,
   "metadata": {
    "collapsed": true
   },
   "outputs": [],
   "source": [
    "ax_x = Axis(scale=x_sc)\n",
    "ax_y = Axis(scale=y_sc, orientation='vertical', tick_format='0.2f')"
   ]
  },
  {
   "cell_type": "markdown",
   "metadata": {},
   "source": [
    "Display the scatter chart"
   ]
  },
  {
   "cell_type": "code",
   "execution_count": 6,
   "metadata": {},
   "outputs": [
    {
     "data": {
      "application/vnd.jupyter.widget-view+json": {
       "model_id": "db89bba7bfcc48479cb249cc22763a52",
       "version_major": 2,
       "version_minor": 0
      },
      "text/html": [
       "<p>Failed to display Jupyter Widget of type <code>Figure</code>.</p>\n",
       "<p>\n",
       "  If you're reading this message in the Jupyter Notebook or JupyterLab Notebook, it may mean\n",
       "  that the widgets JavaScript is still loading. If this message persists, it\n",
       "  likely means that the widgets JavaScript library is either not installed or\n",
       "  not enabled. See the <a href=\"https://ipywidgets.readthedocs.io/en/stable/user_install.html\">Jupyter\n",
       "  Widgets Documentation</a> for setup instructions.\n",
       "</p>\n",
       "<p>\n",
       "  If you're reading this message in another frontend (for example, a static\n",
       "  rendering on GitHub or <a href=\"https://nbviewer.jupyter.org/\">NBViewer</a>),\n",
       "  it may mean that your frontend doesn't currently support widgets.\n",
       "</p>\n"
      ],
      "text/plain": [
       "Figure(axes=[Axis(scale=LinearScale(), side='bottom'), Axis(orientation='vertical', scale=LinearScale(), side='left', tick_format='0.2f')], fig_margin={'bottom': 60, 'right': 60, 'left': 60, 'top': 60}, layout=Layout(min_width='125px'), marks=[Scatter(colors=['dodgerblue'], interactions={'click': 'select'}, scales={'y': LinearScale(), 'x': LinearScale()}, scales_metadata={'y': {'orientation': 'vertical', 'dimension': 'y'}, 'skew': {'dimension': 'skew'}, 'x': {'orientation': 'horizontal', 'dimension': 'x'}, 'opacity': {'dimension': 'opacity'}, 'color': {'dimension': 'color'}, 'rotation': {'dimension': 'rotation'}, 'size': {'dimension': 'size'}}, selected_style={'opacity': 1.0, 'fill': 'DarkOrange', 'stroke': 'Red'}, tooltip_style={'opacity': 0.9}, unselected_style={'opacity': 0.5}, x=array([ 0,  1,  2,  3,  4,  5,  6,  7,  8,  9, 10, 11, 12, 13, 14, 15, 16,\n",
       "       17, 18, 19]), y=array([ 1.24372779, -0.8207228 , -0.58938794,  0.57743502, -1.75158661,\n",
       "        0.8069251 , -1.31798412,  0.19538191, -0.06427836,  1.12534879,\n",
       "        0.9944268 ,  0.69320538,  0.61797878, -1.32506809, -0.16955085,\n",
       "       -1.11240579, -1.07940867, -0.78042457,  1.30286724,  0.82829985]))], scale_x=LinearScale(allow_padding=False, max=1.0, min=0.0), scale_y=LinearScale(allow_padding=False, max=1.0, min=0.0))"
      ]
     },
     "metadata": {},
     "output_type": "display_data"
    }
   ],
   "source": [
    "Figure(marks=[scatter_chart], axes=[ax_x, ax_y])"
   ]
  },
  {
   "cell_type": "markdown",
   "metadata": {},
   "source": [
    "Select any data point in the above graph. The code below is used to display x-coordinate of the selected point"
   ]
  },
  {
   "cell_type": "code",
   "execution_count": 7,
   "metadata": {},
   "outputs": [
    {
     "data": {
      "text/plain": [
       "[]"
      ]
     },
     "execution_count": 7,
     "metadata": {},
     "output_type": "execute_result"
    }
   ],
   "source": [
    "scatter_chart.selected"
   ]
  },
  {
   "cell_type": "markdown",
   "metadata": {},
   "source": [
    "We can select data points on the chart from the Python side (see how the graph changes based on the code below)"
   ]
  },
  {
   "cell_type": "code",
   "execution_count": 8,
   "metadata": {
    "collapsed": true
   },
   "outputs": [],
   "source": [
    "scatter_chart.selected = [1, 2, 3, 5]"
   ]
  },
  {
   "cell_type": "markdown",
   "metadata": {},
   "source": [
    "## Example 2: \n",
    "#### A little more on what can be done"
   ]
  },
  {
   "cell_type": "markdown",
   "metadata": {},
   "source": [
    "In the example below, we plot two scatter charts in the same figure and on hovering over the data points, we can see their coordinates using Tooltip."
   ]
  },
  {
   "cell_type": "code",
   "execution_count": 9,
   "metadata": {
    "collapsed": true
   },
   "outputs": [],
   "source": [
    "from bqplot import Tooltip\n",
    "from ipywidgets import *"
   ]
  },
  {
   "cell_type": "code",
   "execution_count": 10,
   "metadata": {
    "collapsed": true
   },
   "outputs": [],
   "source": [
    "x_sc = LinearScale()\n",
    "y_sc = LinearScale()\n",
    "\n",
    "x_data = np.arange(20)\n",
    "y_data = np.random.randn(20)\n",
    "\n",
    "scatter_chart = Scatter(x=x_data, y=y_data, scales= {'x': x_sc, 'y': y_sc}, colors=['dodgerblue'],\n",
    "                        tooltip=Tooltip(fields=['x', 'y', 'name']), names=np.arange(100, 200), names_unique=False, \n",
    "                        display_names=False)\n",
    "\n",
    "scatter_chart2 = Scatter(x=x_data, y=np.random.randn(20), scales= {'x': x_sc, 'y': y_sc}, colors=['orangered'],\n",
    "                         tooltip=Tooltip(fields=['x', 'y', 'name']), names=np.arange(200, 300), names_unique=False, \n",
    "                         display_names=False)\n",
    "\n",
    "ax_x = Axis(scale=x_sc)\n",
    "ax_y = Axis(scale=y_sc, orientation='vertical', tick_format='0.2f')"
   ]
  },
  {
   "cell_type": "code",
   "execution_count": 11,
   "metadata": {},
   "outputs": [
    {
     "data": {
      "application/vnd.jupyter.widget-view+json": {
       "model_id": "980a3ba666d1406eb4ddadde19a107b8",
       "version_major": 2,
       "version_minor": 0
      },
      "text/html": [
       "<p>Failed to display Jupyter Widget of type <code>Figure</code>.</p>\n",
       "<p>\n",
       "  If you're reading this message in the Jupyter Notebook or JupyterLab Notebook, it may mean\n",
       "  that the widgets JavaScript is still loading. If this message persists, it\n",
       "  likely means that the widgets JavaScript library is either not installed or\n",
       "  not enabled. See the <a href=\"https://ipywidgets.readthedocs.io/en/stable/user_install.html\">Jupyter\n",
       "  Widgets Documentation</a> for setup instructions.\n",
       "</p>\n",
       "<p>\n",
       "  If you're reading this message in another frontend (for example, a static\n",
       "  rendering on GitHub or <a href=\"https://nbviewer.jupyter.org/\">NBViewer</a>),\n",
       "  it may mean that your frontend doesn't currently support widgets.\n",
       "</p>\n"
      ],
      "text/plain": [
       "Figure(axes=[Axis(scale=LinearScale(), side='bottom'), Axis(orientation='vertical', scale=LinearScale(), side='left', tick_format='0.2f')], fig_margin={'bottom': 60, 'right': 60, 'left': 60, 'top': 60}, layout=Layout(min_width='125px'), marks=[Scatter(colors=['dodgerblue'], display_names=False, interactions={'hover': 'tooltip'}, names=array([100, 101, 102, 103, 104, 105, 106, 107, 108, 109, 110, 111, 112,\n",
       "       113, 114, 115, 116, 117, 118, 119, 120, 121, 122, 123, 124, 125,\n",
       "       126, 127, 128, 129, 130, 131, 132, 133, 134, 135, 136, 137, 138,\n",
       "       139, 140, 141, 142, 143, 144, 145, 146, 147, 148, 149, 150, 151,\n",
       "       152, 153, 154, 155, 156, 157, 158, 159, 160, 161, 162, 163, 164,\n",
       "       165, 166, 167, 168, 169, 170, 171, 172, 173, 174, 175, 176, 177,\n",
       "       178, 179, 180, 181, 182, 183, 184, 185, 186, 187, 188, 189, 190,\n",
       "       191, 192, 193, 194, 195, 196, 197, 198, 199]), names_unique=False, scales={'y': LinearScale(), 'x': LinearScale()}, scales_metadata={'y': {'orientation': 'vertical', 'dimension': 'y'}, 'skew': {'dimension': 'skew'}, 'x': {'orientation': 'horizontal', 'dimension': 'x'}, 'opacity': {'dimension': 'opacity'}, 'color': {'dimension': 'color'}, 'rotation': {'dimension': 'rotation'}, 'size': {'dimension': 'size'}}, tooltip=Tooltip(fields=['x', 'y', 'name']), tooltip_style={'opacity': 0.9}, x=array([ 0,  1,  2,  3,  4,  5,  6,  7,  8,  9, 10, 11, 12, 13, 14, 15, 16,\n",
       "       17, 18, 19]), y=array([ -5.11302008e-01,   1.87990704e-01,  -2.07117754e+00,\n",
       "         1.58727754e+00,   3.50979689e-01,   1.00808822e+00,\n",
       "         2.08436191e+00,  -7.43247944e-01,  -4.50529318e-01,\n",
       "         5.83428812e-01,  -1.10392315e-03,  -1.60168055e+00,\n",
       "        -1.91475086e-02,  -9.32113674e-01,  -5.00117667e-01,\n",
       "         6.22189665e-01,   7.34102903e-01,  -4.96077543e-01,\n",
       "         1.00670446e+00,  -6.37569286e-01])), Scatter(colors=['orangered'], display_names=False, interactions={'hover': 'tooltip'}, names=array([200, 201, 202, 203, 204, 205, 206, 207, 208, 209, 210, 211, 212,\n",
       "       213, 214, 215, 216, 217, 218, 219, 220, 221, 222, 223, 224, 225,\n",
       "       226, 227, 228, 229, 230, 231, 232, 233, 234, 235, 236, 237, 238,\n",
       "       239, 240, 241, 242, 243, 244, 245, 246, 247, 248, 249, 250, 251,\n",
       "       252, 253, 254, 255, 256, 257, 258, 259, 260, 261, 262, 263, 264,\n",
       "       265, 266, 267, 268, 269, 270, 271, 272, 273, 274, 275, 276, 277,\n",
       "       278, 279, 280, 281, 282, 283, 284, 285, 286, 287, 288, 289, 290,\n",
       "       291, 292, 293, 294, 295, 296, 297, 298, 299]), names_unique=False, scales={'y': LinearScale(), 'x': LinearScale()}, scales_metadata={'y': {'orientation': 'vertical', 'dimension': 'y'}, 'skew': {'dimension': 'skew'}, 'x': {'orientation': 'horizontal', 'dimension': 'x'}, 'opacity': {'dimension': 'opacity'}, 'color': {'dimension': 'color'}, 'rotation': {'dimension': 'rotation'}, 'size': {'dimension': 'size'}}, tooltip=Tooltip(fields=['x', 'y', 'name']), tooltip_style={'opacity': 0.9}, x=array([ 0,  1,  2,  3,  4,  5,  6,  7,  8,  9, 10, 11, 12, 13, 14, 15, 16,\n",
       "       17, 18, 19]), y=array([ 0.31780908, -0.58908621,  0.4261313 , -0.40087902,  0.44265011,\n",
       "        0.34842702,  1.43887099, -0.13875056,  0.43160251, -0.44711921,\n",
       "        0.66221791, -0.34506418,  0.17804525, -0.96806078, -0.50542622,\n",
       "       -1.2272982 , -0.43596662, -0.46005954, -0.18643243, -0.47907099]))], scale_x=LinearScale(allow_padding=False, max=1.0, min=0.0), scale_y=LinearScale(allow_padding=False, max=1.0, min=0.0))"
      ]
     },
     "metadata": {},
     "output_type": "display_data"
    }
   ],
   "source": [
    "Figure(marks=[scatter_chart, scatter_chart2], axes=[ax_x, ax_y])"
   ]
  },
  {
   "cell_type": "markdown",
   "metadata": {},
   "source": [
    "### Example 3: \n",
    "#### Advanced interactions"
   ]
  },
  {
   "cell_type": "markdown",
   "metadata": {},
   "source": [
    "_bqplot_ allows user defined callbacks which can be used to gain insights about specific regions of the graph. The example below demonstrates implementation of callback using brush selector on a line chart"
   ]
  },
  {
   "cell_type": "code",
   "execution_count": 12,
   "metadata": {
    "collapsed": true
   },
   "outputs": [],
   "source": [
    "from bqplot import DateScale, Lines, interacts\n",
    "from datetime import datetime as py_dtime\n",
    "import pandas as pd"
   ]
  },
  {
   "cell_type": "markdown",
   "metadata": {},
   "source": [
    "Let's create a dataframe with Dates as indices and Profit as a continuous value"
   ]
  },
  {
   "cell_type": "code",
   "execution_count": 13,
   "metadata": {
    "collapsed": true
   },
   "outputs": [],
   "source": [
    "xlabel = 'Profit'"
   ]
  },
  {
   "cell_type": "code",
   "execution_count": 14,
   "metadata": {},
   "outputs": [],
   "source": [
    "profit_data = pd.DataFrame(np.cumsum(np.random.randn(50, 1) * 100, axis=0),\n",
    "                          columns=[xlabel],\n",
    "                          index=pd.date_range(start='01-01-2007', periods=50))\n",
    "\n",
    "dates_actual = profit_data.index.values\n",
    "profits = profit_data[xlabel].values"
   ]
  },
  {
   "cell_type": "markdown",
   "metadata": {},
   "source": [
    "Define a line chart with Dates in the x-axis and Profits in the y-axis"
   ]
  },
  {
   "cell_type": "code",
   "execution_count": 15,
   "metadata": {
    "collapsed": true
   },
   "outputs": [],
   "source": [
    "dt_x_brush = DateScale(min=np.datetime64(py_dtime(2006, 12, 20)))\n",
    "lin_y_brush = LinearScale()\n",
    "\n",
    "lc_brush = Lines(x=dates_actual, y=profits,\n",
    "            scales={'x': dt_x_brush, 'y': lin_y_brush})\n",
    "\n",
    "x_ax_brush = Axis(label='Date', scale=dt_x_brush)\n",
    "x_ay_brush = Axis(label=(xlabel), scale=lin_y_brush, orientation='vertical')"
   ]
  },
  {
   "cell_type": "markdown",
   "metadata": {},
   "source": [
    "The dataframe indices of data points in the selected region will be displayed as string in the HTML widget defined below"
   ]
  },
  {
   "cell_type": "code",
   "execution_count": 16,
   "metadata": {
    "collapsed": true
   },
   "outputs": [],
   "source": [
    "db_brush = HTML(value='[]')"
   ]
  },
  {
   "cell_type": "markdown",
   "metadata": {},
   "source": [
    "Define a Brush Interval Selector to select regions of the graph across the x-axis"
   ]
  },
  {
   "cell_type": "code",
   "execution_count": 17,
   "metadata": {
    "collapsed": true
   },
   "outputs": [],
   "source": [
    "brushsel_date = interacts.BrushIntervalSelector(scale=dt_x_brush, marks=[lc_brush], color='FireBrick')"
   ]
  },
  {
   "cell_type": "markdown",
   "metadata": {},
   "source": [
    "Now, we define a function that will be called when the selectors are interacted with - a callback"
   ]
  },
  {
   "cell_type": "code",
   "execution_count": 18,
   "metadata": {
    "collapsed": true
   },
   "outputs": [],
   "source": [
    "def date_brush_change_callback(change):\n",
    "    db_brush.value = str(change.new)"
   ]
  },
  {
   "cell_type": "markdown",
   "metadata": {},
   "source": [
    "The observe function integrates the callback with change in state of selection"
   ]
  },
  {
   "cell_type": "code",
   "execution_count": 21,
   "metadata": {
    "collapsed": true
   },
   "outputs": [],
   "source": [
    "lc_brush.observe(date_brush_change_callback, names=['selected'])"
   ]
  },
  {
   "cell_type": "markdown",
   "metadata": {},
   "source": [
    "The list of data points is _None_ when no region on the graph is selected. Change in list of data point indices based on the region selected in the graph can be observed."
   ]
  },
  {
   "cell_type": "code",
   "execution_count": 22,
   "metadata": {},
   "outputs": [
    {
     "data": {
      "application/vnd.jupyter.widget-view+json": {
       "model_id": "130df8b02b4640ef99f06390aa90a979",
       "version_major": 2,
       "version_minor": 0
      },
      "text/html": [
       "<p>Failed to display Jupyter Widget of type <code>VBox</code>.</p>\n",
       "<p>\n",
       "  If you're reading this message in the Jupyter Notebook or JupyterLab Notebook, it may mean\n",
       "  that the widgets JavaScript is still loading. If this message persists, it\n",
       "  likely means that the widgets JavaScript library is either not installed or\n",
       "  not enabled. See the <a href=\"https://ipywidgets.readthedocs.io/en/stable/user_install.html\">Jupyter\n",
       "  Widgets Documentation</a> for setup instructions.\n",
       "</p>\n",
       "<p>\n",
       "  If you're reading this message in another frontend (for example, a static\n",
       "  rendering on GitHub or <a href=\"https://nbviewer.jupyter.org/\">NBViewer</a>),\n",
       "  it may mean that your frontend doesn't currently support widgets.\n",
       "</p>\n"
      ],
      "text/plain": [
       "VBox(children=(HTML(value='[9, 10, 11, 12, 13, 14, 15, 16, 17, 18, 19, 20, 21, 22, 23, 24, 25, 26, 27]'), Figure(axes=[Axis(label='Date', scale=DateScale(min=datetime.datetime(2006, 12, 20, 0, 0)), side='bottom'), Axis(label='Profit', orientation='vertical', scale=LinearScale(), side='left')], fig_margin={'bottom': 60, 'right': 60, 'left': 60, 'top': 60}, interaction=BrushIntervalSelector(color='FireBrick', marks=[Lines(colors=['#1f77b4', '#ff7f0e', '#2ca02c', '#d62728', '#9467bd', '#8c564b', '#e377c2', '#7f7f7f', '#bcbd22', '#17becf'], interactions={'hover': 'tooltip'}, scales={'y': LinearScale(), 'x': DateScale(min=datetime.datetime(2006, 12, 20, 0, 0))}, scales_metadata={'x': {'orientation': 'horizontal', 'dimension': 'x'}, 'y': {'orientation': 'vertical', 'dimension': 'y'}, 'color': {'dimension': 'color'}}, selected=[9, 10, 11, 12, 13, 14, 15, 16, 17, 18, 19, 20, 21, 22, 23, 24, 25, 26, 27], tooltip_style={'opacity': 0.9}, x=array(['2007-01-01T00:00:00.000000000', '2007-01-02T00:00:00.000000000',\n",
       "       '2007-01-03T00:00:00.000000000', '2007-01-04T00:00:00.000000000',\n",
       "       '2007-01-05T00:00:00.000000000', '2007-01-06T00:00:00.000000000',\n",
       "       '2007-01-07T00:00:00.000000000', '2007-01-08T00:00:00.000000000',\n",
       "       '2007-01-09T00:00:00.000000000', '2007-01-10T00:00:00.000000000',\n",
       "       '2007-01-11T00:00:00.000000000', '2007-01-12T00:00:00.000000000',\n",
       "       '2007-01-13T00:00:00.000000000', '2007-01-14T00:00:00.000000000',\n",
       "       '2007-01-15T00:00:00.000000000', '2007-01-16T00:00:00.000000000',\n",
       "       '2007-01-17T00:00:00.000000000', '2007-01-18T00:00:00.000000000',\n",
       "       '2007-01-19T00:00:00.000000000', '2007-01-20T00:00:00.000000000',\n",
       "       '2007-01-21T00:00:00.000000000', '2007-01-22T00:00:00.000000000',\n",
       "       '2007-01-23T00:00:00.000000000', '2007-01-24T00:00:00.000000000',\n",
       "       '2007-01-25T00:00:00.000000000', '2007-01-26T00:00:00.000000000',\n",
       "       '2007-01-27T00:00:00.000000000', '2007-01-28T00:00:00.000000000',\n",
       "       '2007-01-29T00:00:00.000000000', '2007-01-30T00:00:00.000000000',\n",
       "       '2007-01-31T00:00:00.000000000', '2007-02-01T00:00:00.000000000',\n",
       "       '2007-02-02T00:00:00.000000000', '2007-02-03T00:00:00.000000000',\n",
       "       '2007-02-04T00:00:00.000000000', '2007-02-05T00:00:00.000000000',\n",
       "       '2007-02-06T00:00:00.000000000', '2007-02-07T00:00:00.000000000',\n",
       "       '2007-02-08T00:00:00.000000000', '2007-02-09T00:00:00.000000000',\n",
       "       '2007-02-10T00:00:00.000000000', '2007-02-11T00:00:00.000000000',\n",
       "       '2007-02-12T00:00:00.000000000', '2007-02-13T00:00:00.000000000',\n",
       "       '2007-02-14T00:00:00.000000000', '2007-02-15T00:00:00.000000000',\n",
       "       '2007-02-16T00:00:00.000000000', '2007-02-17T00:00:00.000000000',\n",
       "       '2007-02-18T00:00:00.000000000', '2007-02-19T00:00:00.000000000'], dtype='datetime64[ns]'), y=array([  68.38619357,  -61.0894383 ,  218.69641145,  338.05001782,\n",
       "        461.23944515,  427.35030694,  359.65850348,  394.43047508,\n",
       "        301.39692852,  276.10110316,  307.16624722,  254.04506846,\n",
       "        204.30349071,  146.89232294,   74.65876854,   75.03407741,\n",
       "        -97.23771273, -105.17002295, -239.52851564, -281.60322059,\n",
       "       -337.14623235, -312.0949861 , -336.96794051, -371.84980422,\n",
       "       -187.92200866,  130.38636343,   59.71123659,  -67.56084499,\n",
       "        -79.73598292,  107.55024139,   73.00682078,   49.59972312,\n",
       "        -21.18085883,   97.66241347,  171.63961239,  311.39165183,\n",
       "        203.20056587,  178.31002799,    7.6663438 ,   68.33333739,\n",
       "        186.04423591,  291.6936156 ,  343.52419503,  257.40594752,\n",
       "        227.9320764 ,  184.9661191 ,  109.88421549,  138.31982724,\n",
       "        151.22896757,  151.96360957]))], scale=DateScale(min=datetime.datetime(2006, 12, 20, 0, 0)), selected=array(['2007-01-09T05:33:27.176Z', '2007-01-29T03:11:40.457Z'], dtype=object)), layout=Layout(min_width='125px'), marks=[Lines(colors=['#1f77b4', '#ff7f0e', '#2ca02c', '#d62728', '#9467bd', '#8c564b', '#e377c2', '#7f7f7f', '#bcbd22', '#17becf'], interactions={'hover': 'tooltip'}, scales={'y': LinearScale(), 'x': DateScale(min=datetime.datetime(2006, 12, 20, 0, 0))}, scales_metadata={'x': {'orientation': 'horizontal', 'dimension': 'x'}, 'y': {'orientation': 'vertical', 'dimension': 'y'}, 'color': {'dimension': 'color'}}, selected=[9, 10, 11, 12, 13, 14, 15, 16, 17, 18, 19, 20, 21, 22, 23, 24, 25, 26, 27], tooltip_style={'opacity': 0.9}, x=array(['2007-01-01T00:00:00.000000000', '2007-01-02T00:00:00.000000000',\n",
       "       '2007-01-03T00:00:00.000000000', '2007-01-04T00:00:00.000000000',\n",
       "       '2007-01-05T00:00:00.000000000', '2007-01-06T00:00:00.000000000',\n",
       "       '2007-01-07T00:00:00.000000000', '2007-01-08T00:00:00.000000000',\n",
       "       '2007-01-09T00:00:00.000000000', '2007-01-10T00:00:00.000000000',\n",
       "       '2007-01-11T00:00:00.000000000', '2007-01-12T00:00:00.000000000',\n",
       "       '2007-01-13T00:00:00.000000000', '2007-01-14T00:00:00.000000000',\n",
       "       '2007-01-15T00:00:00.000000000', '2007-01-16T00:00:00.000000000',\n",
       "       '2007-01-17T00:00:00.000000000', '2007-01-18T00:00:00.000000000',\n",
       "       '2007-01-19T00:00:00.000000000', '2007-01-20T00:00:00.000000000',\n",
       "       '2007-01-21T00:00:00.000000000', '2007-01-22T00:00:00.000000000',\n",
       "       '2007-01-23T00:00:00.000000000', '2007-01-24T00:00:00.000000000',\n",
       "       '2007-01-25T00:00:00.000000000', '2007-01-26T00:00:00.000000000',\n",
       "       '2007-01-27T00:00:00.000000000', '2007-01-28T00:00:00.000000000',\n",
       "       '2007-01-29T00:00:00.000000000', '2007-01-30T00:00:00.000000000',\n",
       "       '2007-01-31T00:00:00.000000000', '2007-02-01T00:00:00.000000000',\n",
       "       '2007-02-02T00:00:00.000000000', '2007-02-03T00:00:00.000000000',\n",
       "       '2007-02-04T00:00:00.000000000', '2007-02-05T00:00:00.000000000',\n",
       "       '2007-02-06T00:00:00.000000000', '2007-02-07T00:00:00.000000000',\n",
       "       '2007-02-08T00:00:00.000000000', '2007-02-09T00:00:00.000000000',\n",
       "       '2007-02-10T00:00:00.000000000', '2007-02-11T00:00:00.000000000',\n",
       "       '2007-02-12T00:00:00.000000000', '2007-02-13T00:00:00.000000000',\n",
       "       '2007-02-14T00:00:00.000000000', '2007-02-15T00:00:00.000000000',\n",
       "       '2007-02-16T00:00:00.000000000', '2007-02-17T00:00:00.000000000',\n",
       "       '2007-02-18T00:00:00.000000000', '2007-02-19T00:00:00.000000000'], dtype='datetime64[ns]'), y=array([  68.38619357,  -61.0894383 ,  218.69641145,  338.05001782,\n",
       "        461.23944515,  427.35030694,  359.65850348,  394.43047508,\n",
       "        301.39692852,  276.10110316,  307.16624722,  254.04506846,\n",
       "        204.30349071,  146.89232294,   74.65876854,   75.03407741,\n",
       "        -97.23771273, -105.17002295, -239.52851564, -281.60322059,\n",
       "       -337.14623235, -312.0949861 , -336.96794051, -371.84980422,\n",
       "       -187.92200866,  130.38636343,   59.71123659,  -67.56084499,\n",
       "        -79.73598292,  107.55024139,   73.00682078,   49.59972312,\n",
       "        -21.18085883,   97.66241347,  171.63961239,  311.39165183,\n",
       "        203.20056587,  178.31002799,    7.6663438 ,   68.33333739,\n",
       "        186.04423591,  291.6936156 ,  343.52419503,  257.40594752,\n",
       "        227.9320764 ,  184.9661191 ,  109.88421549,  138.31982724,\n",
       "        151.22896757,  151.96360957]))], scale_x=LinearScale(allow_padding=False, max=1.0, min=0.0), scale_y=LinearScale(allow_padding=False, max=1.0, min=0.0), title='Brush Selector Selected Indices Example')))"
      ]
     },
     "metadata": {},
     "output_type": "display_data"
    }
   ],
   "source": [
    "fig_brush_sel = Figure(marks=[lc_brush], axes=[x_ax_brush, x_ay_brush],\n",
    "                       title='Brush Selector Selected Indices Example', interaction=brushsel_date)\n",
    "\n",
    "VBox([db_brush, fig_brush_sel])"
   ]
  },
  {
   "cell_type": "code",
   "execution_count": null,
   "metadata": {
    "collapsed": true
   },
   "outputs": [],
   "source": []
  }
 ],
 "metadata": {
  "kernelspec": {
   "display_name": "Python 3",
   "language": "python",
   "name": "python3"
  },
  "language_info": {
   "codemirror_mode": {
    "name": "ipython",
    "version": 3
   },
   "file_extension": ".py",
   "mimetype": "text/x-python",
   "name": "python",
   "nbconvert_exporter": "python",
   "pygments_lexer": "ipython3",
   "version": "3.5.3"
  }
 },
 "nbformat": 4,
 "nbformat_minor": 2
}
